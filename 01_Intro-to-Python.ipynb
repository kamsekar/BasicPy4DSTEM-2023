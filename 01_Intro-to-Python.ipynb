{
 "cells": [
  {
   "cell_type": "markdown",
   "id": "e900c85a",
   "metadata": {},
   "source": [
    "### Basic Python for 4D-STEM \n",
    "# Intro to Python\n",
    "\n",
    "This notebook summarizes a few useful aspects of **Python** including two commonly used libraries, **numpy** and **matplotlib**. \n",
    "\n",
    "Created for the workshop, held at Jožef Stefan Institute on June 14, 2023.\n",
    "\n",
    "Author: Ana Rebeka Kamšek, National Institute of Chemistry, Slovenia"
   ]
  },
  {
   "cell_type": "markdown",
   "id": "5b4c33de",
   "metadata": {},
   "source": [
    "**Variables** are created by specifying their name and assigning a value to them. Names can contain alpha-numeric characters and underscores, must not start with a number, and must not be any of the Python keywords."
   ]
  },
  {
   "cell_type": "code",
   "execution_count": 1,
   "id": "f50c8d5d",
   "metadata": {},
   "outputs": [],
   "source": [
    "a = 5\n",
    "b = 3.2"
   ]
  },
  {
   "cell_type": "markdown",
   "id": "49aa45bd",
   "metadata": {},
   "source": [
    "Variables can then be used in mathematical operations. The **print** function is used for displaying the specified message on the screen."
   ]
  },
  {
   "cell_type": "code",
   "execution_count": 2,
   "id": "21ca6344",
   "metadata": {},
   "outputs": [
    {
     "name": "stdout",
     "output_type": "stream",
     "text": [
      "13.2\n"
     ]
    }
   ],
   "source": [
    "print(2 * a + b)"
   ]
  },
  {
   "cell_type": "markdown",
   "id": "7817ddad",
   "metadata": {},
   "source": [
    "**Lists** are a way to store multiple objects. "
   ]
  },
  {
   "cell_type": "code",
   "execution_count": 3,
   "id": "6cdd28fc",
   "metadata": {},
   "outputs": [
    {
     "name": "stdout",
     "output_type": "stream",
     "text": [
      "[4, 6.3, 0.05, 18, 2]\n"
     ]
    }
   ],
   "source": [
    "new_list = [4, 6.3, 0.05, 18, 2]\n",
    "print(new_list)"
   ]
  },
  {
   "cell_type": "markdown",
   "id": "0b81f865",
   "metadata": {},
   "source": [
    "To find out, how many elements there are in a list, we can use the **len** function. "
   ]
  },
  {
   "cell_type": "code",
   "execution_count": 4,
   "id": "033ed68a",
   "metadata": {},
   "outputs": [
    {
     "data": {
      "text/plain": [
       "5"
      ]
     },
     "execution_count": 4,
     "metadata": {},
     "output_type": "execute_result"
    }
   ],
   "source": [
    "len(new_list)"
   ]
  },
  {
   "cell_type": "markdown",
   "id": "dcc3cfab",
   "metadata": {},
   "source": [
    "**Indexing** is a way to access only a specified value, or multiple values, from an object with more than one value. We can specify the index (position) of the desired value in square brackets. \n",
    "In Python, counting starts at zero - the first element has the index 0, the second 1, etc. The last element has the index -1."
   ]
  },
  {
   "cell_type": "code",
   "execution_count": 5,
   "id": "f110b506",
   "metadata": {},
   "outputs": [
    {
     "data": {
      "text/plain": [
       "2"
      ]
     },
     "execution_count": 5,
     "metadata": {},
     "output_type": "execute_result"
    }
   ],
   "source": [
    "new_list[-1]"
   ]
  },
  {
   "cell_type": "markdown",
   "id": "943b7c21",
   "metadata": {},
   "source": [
    "Semi-colons are a way to access more than one value. Using `1:` returns everything from the second element onwards. Using `:3` would return everything up to the element with the index 3."
   ]
  },
  {
   "cell_type": "code",
   "execution_count": 6,
   "id": "430d025d",
   "metadata": {},
   "outputs": [
    {
     "data": {
      "text/plain": [
       "[6.3, 0.05, 18, 2]"
      ]
     },
     "execution_count": 6,
     "metadata": {},
     "output_type": "execute_result"
    }
   ],
   "source": [
    "new_list[1:]"
   ]
  },
  {
   "cell_type": "markdown",
   "id": "f7106ebd",
   "metadata": {},
   "source": [
    "We can also assign new values to list elements using indexing."
   ]
  },
  {
   "cell_type": "code",
   "execution_count": 7,
   "id": "f31180d4",
   "metadata": {},
   "outputs": [
    {
     "name": "stdout",
     "output_type": "stream",
     "text": [
      "[4, 6.3, 0.05, 100, 2]\n"
     ]
    }
   ],
   "source": [
    "new_list[-2] = 100\n",
    "print(new_list)"
   ]
  },
  {
   "cell_type": "markdown",
   "id": "5c071d80",
   "metadata": {},
   "source": [
    "**If statements** are a way to perform different operations according to the specified conditions. Keywords **if**, **elif**, and **else** are used, followed by conditions. The lines containing the operations must be indented by four spaces (or tab)."
   ]
  },
  {
   "cell_type": "code",
   "execution_count": 8,
   "id": "2877940f",
   "metadata": {},
   "outputs": [
    {
     "name": "stdout",
     "output_type": "stream",
     "text": [
      "8\n"
     ]
    }
   ],
   "source": [
    "if a < 3:\n",
    "    print(a)\n",
    "elif a > 4:\n",
    "    print(a + 3)\n",
    "else:\n",
    "    print(\"nothing\")"
   ]
  },
  {
   "cell_type": "markdown",
   "id": "ab83442d",
   "metadata": {},
   "source": [
    "**For loops** are a way to perform one operation multiple times. We can loop through an object with multiple elements and perform an operation on each element. For this purpose, we create a temporary variable that only lives inside the loop. "
   ]
  },
  {
   "cell_type": "code",
   "execution_count": 9,
   "id": "b253f9f3",
   "metadata": {},
   "outputs": [
    {
     "name": "stdout",
     "output_type": "stream",
     "text": [
      "4\n",
      "6.3\n",
      "0.05\n",
      "100\n",
      "2\n"
     ]
    }
   ],
   "source": [
    "for element in new_list:\n",
    "    print(element)"
   ]
  },
  {
   "cell_type": "markdown",
   "id": "776bf36e",
   "metadata": {},
   "source": [
    "We can also loop through a range of numbers using the **range** function. "
   ]
  },
  {
   "cell_type": "code",
   "execution_count": 10,
   "id": "cdd366da",
   "metadata": {},
   "outputs": [
    {
     "name": "stdout",
     "output_type": "stream",
     "text": [
      "2\n",
      "3\n",
      "4\n"
     ]
    }
   ],
   "source": [
    "for i in range(2, 5):\n",
    "    print(i)"
   ]
  },
  {
   "cell_type": "markdown",
   "id": "c768f76c",
   "metadata": {},
   "source": [
    "Loops can be **nested**. For each iteration of the outer loop, an inner loop with a new temporary variable will be performed in its entirety. This can be thought of as rows and columns of an image."
   ]
  },
  {
   "cell_type": "code",
   "execution_count": 11,
   "id": "58411423",
   "metadata": {},
   "outputs": [
    {
     "name": "stdout",
     "output_type": "stream",
     "text": [
      "0 0 0\n",
      "0 1 0\n",
      "0 2 0\n",
      "1 0 0\n",
      "1 1 1\n",
      "1 2 2\n",
      "2 0 0\n",
      "2 1 2\n",
      "2 2 4\n",
      "3 0 0\n",
      "3 1 3\n",
      "3 2 6\n",
      "4 0 0\n",
      "4 1 4\n",
      "4 2 8\n"
     ]
    }
   ],
   "source": [
    "for i in range(5):\n",
    "    for j in range(3):\n",
    "        print(i, j, i * j)"
   ]
  },
  {
   "cell_type": "markdown",
   "id": "a633d58f",
   "metadata": {},
   "source": [
    "While Python includes several useful functions, a lot more can be found in various **packages**. They can be installed using the `conda install name_of_package` command inside the Anaconda Prompt. \n",
    "\n",
    "We must first import the packages we would like to use. **NumPy** is a package for array computing. Usually, it is imported as **np**."
   ]
  },
  {
   "cell_type": "code",
   "execution_count": 12,
   "id": "54f1a410",
   "metadata": {},
   "outputs": [],
   "source": [
    "import numpy as np"
   ]
  },
  {
   "cell_type": "markdown",
   "id": "b886a6d3",
   "metadata": {},
   "source": [
    "Arrays are numpy objects that can store multiple values. Lists can be easily converted to arrays.\n",
    "To find out, how many elements there are in an array, we can use the **shape** tool. "
   ]
  },
  {
   "cell_type": "code",
   "execution_count": 13,
   "id": "f567d066",
   "metadata": {},
   "outputs": [
    {
     "name": "stdout",
     "output_type": "stream",
     "text": [
      "[4.0e+00 6.3e+00 5.0e-02 1.0e+02 2.0e+00]\n",
      "(5,)\n"
     ]
    }
   ],
   "source": [
    "new_array = np.array(new_list)\n",
    "print(new_array)\n",
    "print(new_array.shape)"
   ]
  },
  {
   "cell_type": "markdown",
   "id": "a4b474c8",
   "metadata": {},
   "source": [
    "NumPy contains a large number of **mathematical functions** that can be performed on arrays, variables, or simply any numerical values. The package documentation explaining every function is available at https://numpy.org/doc/stable/. "
   ]
  },
  {
   "cell_type": "code",
   "execution_count": 14,
   "id": "f1031b18",
   "metadata": {},
   "outputs": [
    {
     "data": {
      "text/plain": [
       "2.23606797749979"
      ]
     },
     "execution_count": 14,
     "metadata": {},
     "output_type": "execute_result"
    }
   ],
   "source": [
    "np.sqrt(a)"
   ]
  },
  {
   "cell_type": "code",
   "execution_count": 15,
   "id": "4f08922f",
   "metadata": {},
   "outputs": [
    {
     "data": {
      "text/plain": [
       "104.85760000000002"
      ]
     },
     "execution_count": 15,
     "metadata": {},
     "output_type": "execute_result"
    }
   ],
   "source": [
    "np.power(b, 4)"
   ]
  },
  {
   "cell_type": "code",
   "execution_count": 16,
   "id": "419defe1",
   "metadata": {},
   "outputs": [
    {
     "data": {
      "text/plain": [
       "array([ 2.        ,  2.50998008,  0.2236068 , 10.        ,  1.41421356])"
      ]
     },
     "execution_count": 16,
     "metadata": {},
     "output_type": "execute_result"
    }
   ],
   "source": [
    "np.sqrt(new_array)"
   ]
  },
  {
   "cell_type": "code",
   "execution_count": 17,
   "id": "785c938c",
   "metadata": {},
   "outputs": [
    {
     "data": {
      "text/plain": [
       "22.47"
      ]
     },
     "execution_count": 17,
     "metadata": {},
     "output_type": "execute_result"
    }
   ],
   "source": [
    "np.average(new_array)"
   ]
  },
  {
   "cell_type": "code",
   "execution_count": 18,
   "id": "2145b0e1",
   "metadata": {},
   "outputs": [
    {
     "name": "stdout",
     "output_type": "stream",
     "text": [
      "[0. 0. 0. 0. 0. 0.]\n"
     ]
    }
   ],
   "source": [
    "only_zeros = np.zeros(6)\n",
    "print(only_zeros)"
   ]
  },
  {
   "cell_type": "markdown",
   "id": "45d6b5dc",
   "metadata": {},
   "source": [
    "**Multi-dimensional arrays** can be created by specifying their shape with more than one value. \n",
    "Here is an example of a two-dimensional array of ones."
   ]
  },
  {
   "cell_type": "code",
   "execution_count": 19,
   "id": "a6bfb47c",
   "metadata": {},
   "outputs": [
    {
     "name": "stdout",
     "output_type": "stream",
     "text": [
      "[[1. 1.]\n",
      " [1. 1.]\n",
      " [1. 1.]]\n"
     ]
    }
   ],
   "source": [
    "ones_2d = np.ones((3, 2))\n",
    "print(ones_2d)"
   ]
  },
  {
   "cell_type": "markdown",
   "id": "295f027d",
   "metadata": {},
   "source": [
    "Indexing arrays works similarly to lists."
   ]
  },
  {
   "cell_type": "code",
   "execution_count": 20,
   "id": "f14ca3d4",
   "metadata": {},
   "outputs": [
    {
     "name": "stdout",
     "output_type": "stream",
     "text": [
      "100.0\n",
      "[5.e-02 1.e+02 2.e+00]\n"
     ]
    }
   ],
   "source": [
    "print(new_array[3])\n",
    "print(new_array[2:])"
   ]
  },
  {
   "cell_type": "markdown",
   "id": "48b36d6d",
   "metadata": {},
   "source": [
    "**Reshaping** arrays works by using the **np.reshape** function. The number of array elements must be conserved.\n",
    "\n",
    "In this instance, an 1D array of 20 values is created using the **np.arange** function, and then reshaped. The shape of the resulting array has two values, corresponding to two dimensions (rows and columns)."
   ]
  },
  {
   "cell_type": "code",
   "execution_count": 21,
   "id": "1953df76",
   "metadata": {},
   "outputs": [
    {
     "name": "stdout",
     "output_type": "stream",
     "text": [
      "[[ 0  1  2  3  4]\n",
      " [ 5  6  7  8  9]\n",
      " [10 11 12 13 14]\n",
      " [15 16 17 18 19]]\n",
      "(4, 5)\n"
     ]
    }
   ],
   "source": [
    "array_2d = np.arange(20).reshape((4, 5))\n",
    "print(array_2d)\n",
    "print(array_2d.shape)"
   ]
  },
  {
   "cell_type": "markdown",
   "id": "fdfb741b",
   "metadata": {},
   "source": [
    "Indexing 2D arrays follows the same logic as before, specifying indices in square brackets.\n",
    "\n",
    "When specifying only one index, a one-dimensional array is returned, as a 2D array is made up of 1D arrays. To get a single value, two indices must be specified. Again, semi-colons can be used to access a subset of values. This is analogous to cropping an image."
   ]
  },
  {
   "cell_type": "code",
   "execution_count": 22,
   "id": "704fcb4d",
   "metadata": {},
   "outputs": [
    {
     "name": "stdout",
     "output_type": "stream",
     "text": [
      "[5 6 7 8 9]\n"
     ]
    }
   ],
   "source": [
    "print(array_2d[1])"
   ]
  },
  {
   "cell_type": "code",
   "execution_count": 23,
   "id": "498c4fbf",
   "metadata": {},
   "outputs": [
    {
     "name": "stdout",
     "output_type": "stream",
     "text": [
      "8\n"
     ]
    }
   ],
   "source": [
    "print(array_2d[1][3])"
   ]
  },
  {
   "cell_type": "code",
   "execution_count": 24,
   "id": "9e0574e4",
   "metadata": {},
   "outputs": [
    {
     "name": "stdout",
     "output_type": "stream",
     "text": [
      "First:  8\n",
      "Second:  [[ 0  1]\n",
      " [ 5  6]\n",
      " [10 11]\n",
      " [15 16]]\n",
      "Third:  [15 16 17 18 19]\n",
      "Fourth:  [[ 0  2  4]\n",
      " [ 5  7  9]\n",
      " [10 12 14]\n",
      " [15 17 19]]\n"
     ]
    }
   ],
   "source": [
    "print(\"First: \", array_2d[1, 3])\n",
    "print(\"Second: \", array_2d[:, :2])\n",
    "print(\"Third: \", array_2d[-1, :])\n",
    "print(\"Fourth: \", array_2d[:, ::2])"
   ]
  },
  {
   "cell_type": "markdown",
   "id": "38e72937",
   "metadata": {},
   "source": [
    "**Matplotlib** is a package for plotting. Usually, a subset of this package, called **pyplot** is imported as **plt**. "
   ]
  },
  {
   "cell_type": "code",
   "execution_count": 25,
   "id": "66124818",
   "metadata": {},
   "outputs": [],
   "source": [
    "import matplotlib.pyplot as plt"
   ]
  },
  {
   "cell_type": "markdown",
   "id": "00cc9e3c",
   "metadata": {},
   "source": [
    "Similar to NumPy, Matplotlib offers its documentation and many examples on https://matplotlib.org/. \n",
    "\n",
    "Let's **plot a function**. First, we define the *x* and *y* values. The np.linspace function will return 100 values, equally spaced between -5 and 5, and the np.sin function will return their sine values.\n",
    "\n",
    "Afterwards, a number of Matplotlib functions are used to create the plot (**plt.plot**) including its title, axis labels, and line color."
   ]
  },
  {
   "cell_type": "code",
   "execution_count": 26,
   "id": "f4ee912b",
   "metadata": {},
   "outputs": [
    {
     "data": {
      "text/plain": [
       "Text(0, 0.5, 'sin(x)')"
      ]
     },
     "execution_count": 26,
     "metadata": {},
     "output_type": "execute_result"
    },
    {
     "data": {
      "image/png": "[encoded data removed]",
      "text/plain": [
       "<Figure size 432x288 with 1 Axes>"
      ]
     },
     "metadata": {
      "needs_background": "light"
     },
     "output_type": "display_data"
    }
   ],
   "source": [
    "x = np.linspace(-5, 5, 100)\n",
    "y = np.sin(x)\n",
    "\n",
    "plt.figure()\n",
    "plt.plot(x, y, c='green')\n",
    "plt.title(\"Plot of a sine function\")\n",
    "plt.xlabel(\"x\")\n",
    "plt.ylabel(\"sin(x)\")"
   ]
  },
  {
   "cell_type": "markdown",
   "id": "ca17b3a8",
   "metadata": {},
   "source": [
    "**Plotting a 2D array (image)** follows a similar logic. \n",
    "\n",
    "First, we create a 2D array containing numerical values between 0 and 9999. Then, **plt.imshow** is used to plot the array as an image. The colorbar and axis ticks can be adjusted as needed. \n",
    "There are several colormaps available: https://matplotlib.org/stable/tutorials/colors/colormaps.html "
   ]
  },
  {
   "cell_type": "code",
   "execution_count": 27,
   "id": "62a2a375",
   "metadata": {},
   "outputs": [
    {
     "data": {
      "text/plain": [
       "([], [])"
      ]
     },
     "execution_count": 27,
     "metadata": {},
     "output_type": "execute_result"
    },
    {
     "data": {
      "image/png": "[encoded data removed]",
      "text/plain": [
       "<Figure size 432x288 with 2 Axes>"
      ]
     },
     "metadata": {
      "needs_background": "light"
     },
     "output_type": "display_data"
    }
   ],
   "source": [
    "z = np.arange(10000).reshape((100, 100))\n",
    "\n",
    "plt.figure()\n",
    "plt.imshow(z, cmap='gray', vmin=4000)\n",
    "plt.colorbar()\n",
    "plt.xticks([])\n",
    "plt.yticks([])"
   ]
  },
  {
   "cell_type": "markdown",
   "id": "374f5e51",
   "metadata": {},
   "source": [
    "Finally, **functions** are a useful way to store a chunk of code in a way that can be called at a later point. \n",
    "Here is a function with two arrays as arguments, returning another array as a result. "
   ]
  },
  {
   "cell_type": "code",
   "execution_count": 28,
   "id": "1bada212",
   "metadata": {},
   "outputs": [],
   "source": [
    "def my_function(array1, array2):\n",
    "    avg = np.average(array1)\n",
    "    result = avg * array2\n",
    "    return result"
   ]
  },
  {
   "cell_type": "markdown",
   "id": "a9c1bdc5",
   "metadata": {},
   "source": [
    "Simply defining a function does not return a result. We can define two arrays and pass them as argument to our function, and then print the result on the screen."
   ]
  },
  {
   "cell_type": "code",
   "execution_count": 29,
   "id": "7edb1f4a",
   "metadata": {},
   "outputs": [
    {
     "name": "stdout",
     "output_type": "stream",
     "text": [
      "[2. 2. 2. 2. 2.]\n"
     ]
    }
   ],
   "source": [
    "first = np.arange(5)\n",
    "second = np.ones(5)\n",
    "\n",
    "print(my_function(first, second))"
   ]
  }
 ],
 "metadata": {
  "kernelspec": {
   "display_name": "Python 3 (ipykernel)",
   "language": "python",
   "name": "python3"
  },
  "language_info": {
   "codemirror_mode": {
    "name": "ipython",
    "version": 3
   },
   "file_extension": ".py",
   "mimetype": "text/x-python",
   "name": "python",
   "nbconvert_exporter": "python",
   "pygments_lexer": "ipython3",
   "version": "3.9.7"
  }
 },
 "nbformat": 4,
 "nbformat_minor": 5
}
